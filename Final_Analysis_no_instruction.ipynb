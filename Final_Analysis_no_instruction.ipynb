{
 "cells": [
  {
   "cell_type": "markdown",
   "metadata": {
    "collapsed": false
   },
   "source": [
    "Import Data + drop the unused columns(Cumulative Entries)"
   ]
  },
  {
   "cell_type": "code",
   "execution_count": 30,
   "metadata": {
    "collapsed": false
   },
   "outputs": [
    {
     "data": {
      "text/html": [
       "<div>\n",
       "<style scoped>\n",
       "    .dataframe tbody tr th:only-of-type {\n",
       "        vertical-align: middle;\n",
       "    }\n",
       "\n",
       "    .dataframe tbody tr th {\n",
       "        vertical-align: top;\n",
       "    }\n",
       "\n",
       "    .dataframe thead th {\n",
       "        text-align: right;\n",
       "    }\n",
       "</style>\n",
       "<table border=\"1\" class=\"dataframe\">\n",
       "  <thead>\n",
       "    <tr style=\"text-align: right;\">\n",
       "      <th></th>\n",
       "      <th>DATE_TIME</th>\n",
       "      <th>C/A</th>\n",
       "      <th>UNIT</th>\n",
       "      <th>SCP</th>\n",
       "      <th>STATION</th>\n",
       "      <th>LINENAME</th>\n",
       "      <th>DIVISION</th>\n",
       "      <th>DESC</th>\n",
       "      <th>CUM_EXITS</th>\n",
       "    </tr>\n",
       "  </thead>\n",
       "  <tbody>\n",
       "    <tr>\n",
       "      <th>0</th>\n",
       "      <td>2017-06-10 00:00:00</td>\n",
       "      <td>A002</td>\n",
       "      <td>R051</td>\n",
       "      <td>02-00-00</td>\n",
       "      <td>59 ST</td>\n",
       "      <td>NQR456W</td>\n",
       "      <td>BMT</td>\n",
       "      <td>REGULAR</td>\n",
       "      <td>2104297</td>\n",
       "    </tr>\n",
       "    <tr>\n",
       "      <th>1</th>\n",
       "      <td>2017-06-10 04:00:00</td>\n",
       "      <td>A002</td>\n",
       "      <td>R051</td>\n",
       "      <td>02-00-00</td>\n",
       "      <td>59 ST</td>\n",
       "      <td>NQR456W</td>\n",
       "      <td>BMT</td>\n",
       "      <td>REGULAR</td>\n",
       "      <td>2104303</td>\n",
       "    </tr>\n",
       "    <tr>\n",
       "      <th>2</th>\n",
       "      <td>2017-06-10 08:00:00</td>\n",
       "      <td>A002</td>\n",
       "      <td>R051</td>\n",
       "      <td>02-00-00</td>\n",
       "      <td>59 ST</td>\n",
       "      <td>NQR456W</td>\n",
       "      <td>BMT</td>\n",
       "      <td>REGULAR</td>\n",
       "      <td>2104337</td>\n",
       "    </tr>\n",
       "    <tr>\n",
       "      <th>3</th>\n",
       "      <td>2017-06-10 12:00:00</td>\n",
       "      <td>A002</td>\n",
       "      <td>R051</td>\n",
       "      <td>02-00-00</td>\n",
       "      <td>59 ST</td>\n",
       "      <td>NQR456W</td>\n",
       "      <td>BMT</td>\n",
       "      <td>REGULAR</td>\n",
       "      <td>2104417</td>\n",
       "    </tr>\n",
       "    <tr>\n",
       "      <th>4</th>\n",
       "      <td>2017-06-10 16:00:00</td>\n",
       "      <td>A002</td>\n",
       "      <td>R051</td>\n",
       "      <td>02-00-00</td>\n",
       "      <td>59 ST</td>\n",
       "      <td>NQR456W</td>\n",
       "      <td>BMT</td>\n",
       "      <td>REGULAR</td>\n",
       "      <td>2104465</td>\n",
       "    </tr>\n",
       "  </tbody>\n",
       "</table>\n",
       "</div>"
      ],
      "text/plain": [
       "            DATE_TIME   C/A  UNIT       SCP STATION LINENAME DIVISION  \\\n",
       "0 2017-06-10 00:00:00  A002  R051  02-00-00   59 ST  NQR456W      BMT   \n",
       "1 2017-06-10 04:00:00  A002  R051  02-00-00   59 ST  NQR456W      BMT   \n",
       "2 2017-06-10 08:00:00  A002  R051  02-00-00   59 ST  NQR456W      BMT   \n",
       "3 2017-06-10 12:00:00  A002  R051  02-00-00   59 ST  NQR456W      BMT   \n",
       "4 2017-06-10 16:00:00  A002  R051  02-00-00   59 ST  NQR456W      BMT   \n",
       "\n",
       "      DESC  CUM_EXITS  \n",
       "0  REGULAR    2104297  \n",
       "1  REGULAR    2104303  \n",
       "2  REGULAR    2104337  \n",
       "3  REGULAR    2104417  \n",
       "4  REGULAR    2104465  "
      ]
     },
     "execution_count": 30,
     "metadata": {
     },
     "output_type": "execute_result"
    }
   ],
   "source": [
    "import pandas as pd\n",
    "df = pd.read_csv('turnstile_170617.txt', parse_dates = [['DATE', 'TIME']])\n",
    "df.columns = df.columns.str.strip()\n",
    "df = df.rename(columns = {'ENTRIES': 'CUM_ENTRIES', 'EXITS': 'CUM_EXITS'})\n",
    "df = df.dropna()\n",
    "df = df.drop(\"CUM_ENTRIES\", axis=1)\n",
    "df.head()"
   ]
  },
  {
   "cell_type": "code",
   "execution_count": 31,
   "metadata": {
    "collapsed": false
   },
   "outputs": [
   ],
   "source": [
    "df_copy = df.copy()"
   ]
  },
  {
   "cell_type": "code",
   "execution_count": 32,
   "metadata": {
    "collapsed": false
   },
   "outputs": [
    {
     "name": "stdout",
     "output_type": "stream",
     "text": [
      "<class 'pandas.core.frame.DataFrame'>\n",
      "Int64Index: 197209 entries, 0 to 197208\n",
      "Data columns (total 9 columns):\n",
      "DATE_TIME    197209 non-null datetime64[ns]\n",
      "C/A          197209 non-null object\n",
      "UNIT         197209 non-null object\n",
      "SCP          197209 non-null object\n",
      "STATION      197209 non-null object\n",
      "LINENAME     197209 non-null object\n",
      "DIVISION     197209 non-null object\n",
      "DESC         197209 non-null object\n",
      "CUM_EXITS    197209 non-null int64\n",
      "dtypes: datetime64[ns](1), int64(1), object(7)\n",
      "memory usage: 15.0+ MB\n"
     ]
    }
   ],
   "source": [
    "#we care about\n",
    "#C/A + UNIT + STATION refers to a unique turnstile\n",
    "#SCP denotes the nearby(next to the turnstile) train locations\n",
    "df.info()"
   ]
  },
  {
   "cell_type": "markdown",
   "metadata": {
    "collapsed": false
   },
   "source": [
    "Create Groupby Object (Each object in the list represents a turnstile)"
   ]
  },
  {
   "cell_type": "code",
   "execution_count": 0,
   "metadata": {
    "collapsed": false,
    "scrolled": true
   },
   "outputs": [
   ],
   "source": [
    "list_of_df = [g for _, g in df_copy.groupby(['C/A', 'SCP', 'UNIT','STATION'])]\n",
    "keys = [_ for _,g in df_copy.groupby(['C/A', 'SCP', 'UNIT','STATION'])]\n",
    "# list_of_df[0]\n",
    "for i, g in enumerate(list_of_df):\n",
    "    list_of_df[i].sort_values(by=\"DATE_TIME\", inplace=True)"
   ]
  },
  {
   "cell_type": "code",
   "execution_count": 0,
   "metadata": {
    "collapsed": false
   },
   "outputs": [
   ],
   "source": [
    "list_of_df[0].head()"
   ]
  },
  {
   "cell_type": "markdown",
   "metadata": {
    "collapsed": false
   },
   "source": [
    "Adding Amount of People Exiting the Station"
   ]
  },
  {
   "cell_type": "code",
   "execution_count": 0,
   "metadata": {
    "collapsed": false
   },
   "outputs": [
   ],
   "source": [
    "for i, x in enumerate(list_of_df):\n",
    "    ENTRIES = [0]\n",
    "    EXITS = [0]\n",
    "    for j in range(len(x.index)):\n",
    "        if j==0:\n",
    "            continue\n",
    "        now = x.iloc[j]\n",
    "        prev = x.iloc[j-1]\n",
    "        EXITS.append(now.CUM_EXITS-prev.CUM_EXITS)\n",
    "    list_of_df[i]['EXITS'] = EXITS\n",
    "    list_of_df[i][\"DATE\"] = [d.date() for d in list_of_df[i].DATE_TIME]\n",
    "    list_of_df[i][\"TIME\"] = [d.time() for d in list_of_df[i].DATE_TIME]"
   ]
  },
  {
   "cell_type": "code",
   "execution_count": 0,
   "metadata": {
    "collapsed": false
   },
   "outputs": [
   ],
   "source": [
    "list_of_df[0].head()"
   ]
  },
  {
   "cell_type": "markdown",
   "metadata": {
    "collapsed": false
   },
   "source": [
    "Extracting all errors"
   ]
  },
  {
   "cell_type": "code",
   "execution_count": 0,
   "metadata": {
    "collapsed": false
   },
   "outputs": [
   ],
   "source": [
    "errors = []\n",
    "for g in list_of_df:\n",
    "    temp = g[(g.EXITS > 10000) | (g.EXITS < 0) | ((g.EXITS/g.CUM_EXITS>0.5) & (g.CUM_EXITS>20000))]\n",
    "    if not temp.empty:\n",
    "        errors.append(g)\n",
    "len(errors)"
   ]
  },
  {
   "cell_type": "code",
   "execution_count": 0,
   "metadata": {
    "collapsed": false
   },
   "outputs": [
   ],
   "source": [
    "import matplotlib.pyplot as plt\n",
    "%matplotlib inline\n",
    "for x in errors:\n",
    "    plt.plot(x.DATE_TIME, x.CUM_EXITS)\n",
    "    plt.xticks([])\n",
    "    plt.show()"
   ]
  },
  {
   "cell_type": "code",
   "execution_count": 0,
   "metadata": {
    "collapsed": false
   },
   "outputs": [
   ],
   "source": [
    "reflected_exits = []\n",
    "for x in errors:\n",
    "    if len(x[x.EXITS < 0]) == len(x)-1:\n",
    "        reflected_exits.append(x)\n",
    "\n",
    "for x in reflected_exits:\n",
    "    plt.plot(x.DATE_TIME, x.CUM_EXITS, '.')\n",
    "    plt.xticks([])\n",
    "    plt.show()"
   ]
  },
  {
   "cell_type": "code",
   "execution_count": 0,
   "metadata": {
    "collapsed": false
   },
   "outputs": [
   ],
   "source": [
    "for i, x in enumerate(reflected_exits):\n",
    "    CUM_EXITS = []\n",
    "    EXITS = []\n",
    "    for j in range(len(x.index)):\n",
    "        if j==0:\n",
    "            CUM_EXITS.append(x.iloc[j].CUM_EXITS)\n",
    "            EXITS.append(0)\n",
    "            continue\n",
    "        prev = x.iloc[j-1]\n",
    "        now = x.iloc[j]\n",
    "        EXITS.append(-now.EXITS)\n",
    "        CUM_EXITS.append(CUM_EXITS[-1]+EXITS[-1])\n",
    "    reflected_exits[i].CUM_EXITS = CUM_EXITS\n",
    "    reflected_exits[i].EXITS = EXITS\n",
    "for x in reflected_exits:\n",
    "    plt.plot(x.DATE_TIME, x.CUM_EXITS, '.')\n",
    "    plt.xticks([])\n",
    "    plt.show()"
   ]
  },
  {
   "cell_type": "markdown",
   "metadata": {
    "collapsed": false
   },
   "source": [
    "Cleanup and get no error dataframe"
   ]
  },
  {
   "cell_type": "code",
   "execution_count": 0,
   "metadata": {
    "collapsed": false
   },
   "outputs": [
   ],
   "source": [
    "noerrors = []\n",
    "for i, x in enumerate(list_of_df):\n",
    "    noerrors.append(x[(x.EXITS>0) & ((x.EXITS/x.CUM_EXITS<=0.5) | (x.CUM_EXITS<=20000))])\n",
    "result = pd.concat(noerrors).sort_values(by=\"EXITS\", ascending=False)"
   ]
  },
  {
   "cell_type": "code",
   "execution_count": 0,
   "metadata": {
    "collapsed": false
   },
   "outputs": [
   ],
   "source": [
    "result = result.drop(['CUM_EXITS'],axis=1)\n",
    "result.head()"
   ]
  },
  {
   "cell_type": "code",
   "execution_count": 0,
   "metadata": {
    "collapsed": false
   },
   "outputs": [
   ],
   "source": [
    "import pickle\n",
    "result.to_pickle(\"No_Errors_Dataset.pkl\")"
   ]
  },
  {
   "cell_type": "code",
   "execution_count": 14,
   "metadata": {
    "collapsed": false
   },
   "outputs": [
    {
     "data": {
      "text/html": [
       "<div>\n",
       "<style scoped>\n",
       "    .dataframe tbody tr th:only-of-type {\n",
       "        vertical-align: middle;\n",
       "    }\n",
       "\n",
       "    .dataframe tbody tr th {\n",
       "        vertical-align: top;\n",
       "    }\n",
       "\n",
       "    .dataframe thead th {\n",
       "        text-align: right;\n",
       "    }\n",
       "</style>\n",
       "<table border=\"1\" class=\"dataframe\">\n",
       "  <thead>\n",
       "    <tr style=\"text-align: right;\">\n",
       "      <th></th>\n",
       "      <th>DATE_TIME</th>\n",
       "      <th>C/A</th>\n",
       "      <th>UNIT</th>\n",
       "      <th>SCP</th>\n",
       "      <th>STATION</th>\n",
       "      <th>LINENAME</th>\n",
       "      <th>DIVISION</th>\n",
       "      <th>DESC</th>\n",
       "      <th>EXITS</th>\n",
       "      <th>DATE</th>\n",
       "      <th>TIME</th>\n",
       "    </tr>\n",
       "  </thead>\n",
       "  <tbody>\n",
       "    <tr>\n",
       "      <th>49047</th>\n",
       "      <td>2017-06-13 20:00:00</td>\n",
       "      <td>N063A</td>\n",
       "      <td>R011</td>\n",
       "      <td>00-00-00</td>\n",
       "      <td>42 ST-PORT AUTH</td>\n",
       "      <td>ACENQRS1237W</td>\n",
       "      <td>IND</td>\n",
       "      <td>REGULAR</td>\n",
       "      <td>4398</td>\n",
       "      <td>2017-06-13</td>\n",
       "      <td>20:00:00</td>\n",
       "    </tr>\n",
       "    <tr>\n",
       "      <th>49065</th>\n",
       "      <td>2017-06-15 20:00:00</td>\n",
       "      <td>N063A</td>\n",
       "      <td>R011</td>\n",
       "      <td>00-00-00</td>\n",
       "      <td>42 ST-PORT AUTH</td>\n",
       "      <td>ACENQRS1237W</td>\n",
       "      <td>IND</td>\n",
       "      <td>REGULAR</td>\n",
       "      <td>4252</td>\n",
       "      <td>2017-06-15</td>\n",
       "      <td>20:00:00</td>\n",
       "    </tr>\n",
       "    <tr>\n",
       "      <th>49041</th>\n",
       "      <td>2017-06-12 20:00:00</td>\n",
       "      <td>N063A</td>\n",
       "      <td>R011</td>\n",
       "      <td>00-00-00</td>\n",
       "      <td>42 ST-PORT AUTH</td>\n",
       "      <td>ACENQRS1237W</td>\n",
       "      <td>IND</td>\n",
       "      <td>REGULAR</td>\n",
       "      <td>4232</td>\n",
       "      <td>2017-06-12</td>\n",
       "      <td>20:00:00</td>\n",
       "    </tr>\n",
       "    <tr>\n",
       "      <th>49059</th>\n",
       "      <td>2017-06-14 20:00:00</td>\n",
       "      <td>N063A</td>\n",
       "      <td>R011</td>\n",
       "      <td>00-00-00</td>\n",
       "      <td>42 ST-PORT AUTH</td>\n",
       "      <td>ACENQRS1237W</td>\n",
       "      <td>IND</td>\n",
       "      <td>REGULAR</td>\n",
       "      <td>4223</td>\n",
       "      <td>2017-06-14</td>\n",
       "      <td>20:00:00</td>\n",
       "    </tr>\n",
       "    <tr>\n",
       "      <th>120059</th>\n",
       "      <td>2017-06-15 10:37:10</td>\n",
       "      <td>PTH21</td>\n",
       "      <td>R540</td>\n",
       "      <td>01-00-00</td>\n",
       "      <td>PATH WTC 2</td>\n",
       "      <td>1</td>\n",
       "      <td>PTH</td>\n",
       "      <td>REGULAR</td>\n",
       "      <td>4065</td>\n",
       "      <td>2017-06-15</td>\n",
       "      <td>10:37:10</td>\n",
       "    </tr>\n",
       "  </tbody>\n",
       "</table>\n",
       "</div>"
      ],
      "text/plain": [
       "                 DATE_TIME    C/A  UNIT       SCP          STATION  \\\n",
       "49047  2017-06-13 20:00:00  N063A  R011  00-00-00  42 ST-PORT AUTH   \n",
       "49065  2017-06-15 20:00:00  N063A  R011  00-00-00  42 ST-PORT AUTH   \n",
       "49041  2017-06-12 20:00:00  N063A  R011  00-00-00  42 ST-PORT AUTH   \n",
       "49059  2017-06-14 20:00:00  N063A  R011  00-00-00  42 ST-PORT AUTH   \n",
       "120059 2017-06-15 10:37:10  PTH21  R540  01-00-00       PATH WTC 2   \n",
       "\n",
       "            LINENAME DIVISION     DESC  EXITS        DATE      TIME  \n",
       "49047   ACENQRS1237W      IND  REGULAR   4398  2017-06-13  20:00:00  \n",
       "49065   ACENQRS1237W      IND  REGULAR   4252  2017-06-15  20:00:00  \n",
       "49041   ACENQRS1237W      IND  REGULAR   4232  2017-06-12  20:00:00  \n",
       "49059   ACENQRS1237W      IND  REGULAR   4223  2017-06-14  20:00:00  \n",
       "120059             1      PTH  REGULAR   4065  2017-06-15  10:37:10  "
      ]
     },
     "execution_count": 14,
     "metadata": {
     },
     "output_type": "execute_result"
    }
   ],
   "source": [
    "result = pd.read_pickle(\"No_Errors_Dataset.pkl\")\n",
    "result.sort_values(by=\"EXITS\",ascending=False).head()"
   ]
  },
  {
   "cell_type": "markdown",
   "metadata": {
    "collapsed": false
   },
   "source": [
    "Generate dictionary containing all the data"
   ]
  },
  {
   "cell_type": "code",
   "execution_count": 15,
   "metadata": {
    "collapsed": false
   },
   "outputs": [
    {
     "name": "stderr",
     "output_type": "stream",
     "text": [
      "WARNING: Some output was deleted.\n"
     ]
    }
   ],
   "source": [
    "alldict = {}\n",
    "stations = [(_,g) for _,g in result.groupby([\"C/A\",\"UNIT\",\"STATION\"])]\n",
    "for k,x in stations:\n",
    "    scp = [(_,g) for _,g in x.groupby([\"SCP\"])]\n",
    "    alldict[k] = {}\n",
    "    for y,t in scp:\n",
    "        alldict[k][y] = []\n",
    "        time_list = t.DATE_TIME.tolist()\n",
    "        exits_list = t.EXITS.tolist()\n",
    "        for i in range(len(time_list)):\n",
    "            alldict[k][y].append((time_list[i],exits_list[i]))\n",
    "        alldict[k][y].sort(key=lambda x:x[0])\n",
    "# scp[0][1]\n",
    "alldict"
   ]
  },
  {
   "cell_type": "markdown",
   "metadata": {
    "collapsed": false
   },
   "source": [
    "Find busiest 4 hrs interval during each day for each station"
   ]
  },
  {
   "cell_type": "code",
   "execution_count": 18,
   "metadata": {
    "collapsed": false
   },
   "outputs": [
   ],
   "source": [
    "import datetime\n",
    "def getPeopleInterval(data, start, end):\n",
    "    people = 0\n",
    "    for x in data:\n",
    "        if start<=x[0]<=end:\n",
    "            people+=x[1]\n",
    "    return people\n",
    "days_range = pd.date_range('2017-06-10',periods=7)\n",
    "busiest = {}\n",
    "for key,val in alldict.items():\n",
    "    busiest[key] = {}\n",
    "    for x in days_range:\n",
    "        time_range = pd.date_range(start=x,end=x+datetime.timedelta(hours=20),freq='1H')\n",
    "        temp = []\n",
    "        for start in time_range:\n",
    "            people = 0\n",
    "            for scp,data in val.items():\n",
    "                people += getPeopleInterval(data, start, start+datetime.timedelta(hours=4))\n",
    "            temp.append((people, start))\n",
    "        busiest[key][x] = sorted(temp,key=lambda x:-x[0])[0]\n",
    "#         print(temp)"
   ]
  },
  {
   "cell_type": "markdown",
   "metadata": {
    "collapsed": false
   },
   "source": [
    "Find busiest stations for each day"
   ]
  },
  {
   "cell_type": "code",
   "execution_count": 16,
   "metadata": {
    "collapsed": false
   },
   "outputs": [
    {
     "data": {
      "text/html": [
       "<div>\n",
       "<style scoped>\n",
       "    .dataframe tbody tr th:only-of-type {\n",
       "        vertical-align: middle;\n",
       "    }\n",
       "\n",
       "    .dataframe tbody tr th {\n",
       "        vertical-align: top;\n",
       "    }\n",
       "\n",
       "    .dataframe thead th {\n",
       "        text-align: right;\n",
       "    }\n",
       "</style>\n",
       "<table border=\"1\" class=\"dataframe\">\n",
       "  <thead>\n",
       "    <tr style=\"text-align: right;\">\n",
       "      <th></th>\n",
       "      <th>DATE</th>\n",
       "      <th>EXITS</th>\n",
       "    </tr>\n",
       "  </thead>\n",
       "  <tbody>\n",
       "    <tr>\n",
       "      <th>0</th>\n",
       "      <td>2017-06-10</td>\n",
       "      <td>3971</td>\n",
       "    </tr>\n",
       "    <tr>\n",
       "      <th>1</th>\n",
       "      <td>2017-06-11</td>\n",
       "      <td>4023</td>\n",
       "    </tr>\n",
       "    <tr>\n",
       "      <th>2</th>\n",
       "      <td>2017-06-12</td>\n",
       "      <td>7159</td>\n",
       "    </tr>\n",
       "    <tr>\n",
       "      <th>3</th>\n",
       "      <td>2017-06-13</td>\n",
       "      <td>8834</td>\n",
       "    </tr>\n",
       "    <tr>\n",
       "      <th>4</th>\n",
       "      <td>2017-06-14</td>\n",
       "      <td>9139</td>\n",
       "    </tr>\n",
       "    <tr>\n",
       "      <th>5</th>\n",
       "      <td>2017-06-15</td>\n",
       "      <td>9122</td>\n",
       "    </tr>\n",
       "    <tr>\n",
       "      <th>6</th>\n",
       "      <td>2017-06-16</td>\n",
       "      <td>8654</td>\n",
       "    </tr>\n",
       "  </tbody>\n",
       "</table>\n",
       "</div>"
      ],
      "text/plain": [
       "         DATE  EXITS\n",
       "0  2017-06-10   3971\n",
       "1  2017-06-11   4023\n",
       "2  2017-06-12   7159\n",
       "3  2017-06-13   8834\n",
       "4  2017-06-14   9139\n",
       "5  2017-06-15   9122\n",
       "6  2017-06-16   8654"
      ]
     },
     "execution_count": 16,
     "metadata": {
     },
     "output_type": "execute_result"
    }
   ],
   "source": [
    "station_dict = {}\n",
    "for _,g in result.groupby([\"C/A\",\"UNIT\",\"STATION\"]):\n",
    "    station_dict[_] = pd.DataFrame({'EXITS':g.groupby(\"DATE\").EXITS.sum()})\n",
    "    station_dict[_] = station_dict[_].reset_index()\n",
    "station_dict[('A002', 'R051', '59 ST')]"
   ]
  },
  {
   "cell_type": "code",
   "execution_count": 17,
   "metadata": {
    "collapsed": false
   },
   "outputs": [
    {
     "name": "stdout",
     "output_type": "stream",
     "text": [
      "[(('H009', 'R235', 'BEDFORD AV'), 32077), (('R238', 'R046', 'GRD CNTRL-42 ST'), 22935), (('N506', 'R022', '34 ST-HERALD SQ'), 20521), (('R533', 'R055', 'FLUSHING-MAIN'), 20110), (('R151', 'R033', 'TIMES SQ-42 ST'), 19585)]\n",
      "[(('H009', 'R235', 'BEDFORD AV'), 28730), (('R238', 'R046', 'GRD CNTRL-42 ST'), 24190), (('N506', 'R022', '34 ST-HERALD SQ'), 23046), (('R533', 'R055', 'FLUSHING-MAIN'), 21282), (('R151', 'R033', 'TIMES SQ-42 ST'), 20368)]\n",
      "[(('PTH22', 'R540', 'PATH NEW WTC'), 57296), (('R238', 'R046', 'GRD CNTRL-42 ST'), 52898), (('R240', 'R047', 'GRD CNTRL-42 ST'), 40932), (('R249', 'R179', '86 ST'), 34700), (('R533', 'R055', 'FLUSHING-MAIN'), 28556)]\n",
      "[(('R238', 'R046', 'GRD CNTRL-42 ST'), 56422), (('PTH22', 'R540', 'PATH NEW WTC'), 54861), (('R240', 'R047', 'GRD CNTRL-42 ST'), 43340), (('R249', 'R179', '86 ST'), 42739), (('R533', 'R055', 'FLUSHING-MAIN'), 30551)]\n",
      "[(('R238', 'R046', 'GRD CNTRL-42 ST'), 56970), (('PTH22', 'R540', 'PATH NEW WTC'), 54393), (('R240', 'R047', 'GRD CNTRL-42 ST'), 43794), (('R249', 'R179', '86 ST'), 39018), (('H009', 'R235', 'BEDFORD AV'), 31621)]\n",
      "[(('R238', 'R046', 'GRD CNTRL-42 ST'), 58870), (('PTH22', 'R540', 'PATH NEW WTC'), 56191), (('R240', 'R047', 'GRD CNTRL-42 ST'), 44924), (('R249', 'R179', '86 ST'), 39343), (('H009', 'R235', 'BEDFORD AV'), 33210)]\n",
      "[(('R238', 'R046', 'GRD CNTRL-42 ST'), 56417), (('PTH22', 'R540', 'PATH NEW WTC'), 48082), (('R240', 'R047', 'GRD CNTRL-42 ST'), 41543), (('R249', 'R179', '86 ST'), 37506), (('H009', 'R235', 'BEDFORD AV'), 33437)]\n"
     ]
    }
   ],
   "source": [
    "days = station_dict[('A002', 'R051', '59 ST')][\"DATE\"].tolist()\n",
    "each_day = []\n",
    "for x in days:\n",
    "    each_day.append([])\n",
    "    for key,val in station_dict.items():\n",
    "        if val[val[\"DATE\"] == x].empty:\n",
    "            continue\n",
    "        each_day[-1].append((key, int(val[val[\"DATE\"]==x].EXITS)))\n",
    "for i, x in enumerate(each_day):\n",
    "    each_day[i].sort(key=lambda x:-x[1])\n",
    "    print(each_day[i][:5])"
   ]
  },
  {
   "cell_type": "code",
   "execution_count": 29,
   "metadata": {
    "collapsed": false
   },
   "outputs": [
    {
     "name": "stdout",
     "output_type": "stream",
     "text": [
      "Day: 1\n",
      "('H009', 'R235', 'BEDFORD AV') (24140, Timestamp('2017-06-10 16:00:00', freq='H'))\n",
      "('R238', 'R046', 'GRD CNTRL-42 ST') (14077, Timestamp('2017-06-10 16:00:00', freq='H'))\n",
      "('N506', 'R022', '34 ST-HERALD SQ') (13793, Timestamp('2017-06-10 16:00:00', freq='H'))\n",
      "('R533', 'R055', 'FLUSHING-MAIN') (12475, Timestamp('2017-06-10 16:00:00', freq='H'))\n",
      "('R151', 'R033', 'TIMES SQ-42 ST') (14315, Timestamp('2017-06-10 16:00:00', freq='H'))\n",
      "('N083', 'R138', 'W 4 ST-WASH SQ') (11911, Timestamp('2017-06-10 17:00:00', freq='H'))\n",
      "('A034', 'R170', '14 ST-UNION SQ') (12240, Timestamp('2017-06-10 17:00:00', freq='H'))\n",
      "('PTH22', 'R540', 'PATH NEW WTC') (5978, Timestamp('2017-06-10 13:00:00', freq='H'))\n",
      "('N049', 'R084', '59 ST COLUMBUS') (11323, Timestamp('2017-06-10 16:00:00', freq='H'))\n",
      "('N324', 'R018', 'JKSN HT-ROOSVLT') (11052, Timestamp('2017-06-10 20:00:00', freq='H'))\n",
      "Day: 2\n",
      "('H009', 'R235', 'BEDFORD AV') (16636, Timestamp('2017-06-11 16:00:00', freq='H'))\n",
      "('R238', 'R046', 'GRD CNTRL-42 ST') (12689, Timestamp('2017-06-11 16:00:00', freq='H'))\n",
      "('N506', 'R022', '34 ST-HERALD SQ') (13551, Timestamp('2017-06-11 16:00:00', freq='H'))\n",
      "('R533', 'R055', 'FLUSHING-MAIN') (10382, Timestamp('2017-06-11 16:00:00', freq='H'))\n",
      "('R151', 'R033', 'TIMES SQ-42 ST') (10919, Timestamp('2017-06-11 16:00:00', freq='H'))\n",
      "('N324', 'R018', 'JKSN HT-ROOSVLT') (9051, Timestamp('2017-06-11 20:00:00', freq='H'))\n",
      "('N083', 'R138', 'W 4 ST-WASH SQ') (9814, Timestamp('2017-06-11 17:00:00', freq='H'))\n",
      "('R169', 'R168', '96 ST') (8727, Timestamp('2017-06-11 17:00:00', freq='H'))\n",
      "('N049', 'R084', '59 ST COLUMBUS') (10372, Timestamp('2017-06-11 16:00:00', freq='H'))\n",
      "('R249', 'R179', '86 ST') (10038, Timestamp('2017-06-11 16:00:00', freq='H'))\n",
      "Day: 3\n",
      "('PTH22', 'R540', 'PATH NEW WTC') (33718, Timestamp('2017-06-12 09:00:00', freq='H'))\n",
      "('R238', 'R046', 'GRD CNTRL-42 ST') (26419, Timestamp('2017-06-12 12:00:00', freq='H'))\n",
      "('R240', 'R047', 'GRD CNTRL-42 ST') (24159, Timestamp('2017-06-12 09:00:00', freq='H'))\n",
      "('R249', 'R179', '86 ST') (19971, Timestamp('2017-06-12 16:00:00', freq='H'))\n",
      "('R533', 'R055', 'FLUSHING-MAIN') (17087, Timestamp('2017-06-12 20:00:00', freq='H'))\n",
      "('N500', 'R020', '47-50 STS ROCK') (20991, Timestamp('2017-06-12 08:00:00', freq='H'))\n",
      "('H009', 'R235', 'BEDFORD AV') (17476, Timestamp('2017-06-12 20:00:00', freq='H'))\n",
      "('R138', 'R293', '34 ST-PENN STA') (19957, Timestamp('2017-06-12 18:00:00', freq='H'))\n",
      "('PTH03', 'R552', 'JOURNAL SQUARE') (11577, Timestamp('2017-06-12 19:00:00', freq='H'))\n",
      "('A025', 'R023', '34 ST-HERALD SQ') (15331, Timestamp('2017-06-12 12:00:00', freq='H'))\n",
      "Day: 4\n",
      "('R238', 'R046', 'GRD CNTRL-42 ST') (27886, Timestamp('2017-06-13 12:00:00', freq='H'))\n",
      "('PTH22', 'R540', 'PATH NEW WTC') (28815, Timestamp('2017-06-13 09:00:00', freq='H'))\n",
      "('R240', 'R047', 'GRD CNTRL-42 ST') (25933, Timestamp('2017-06-13 09:00:00', freq='H'))\n",
      "('R249', 'R179', '86 ST') (25616, Timestamp('2017-06-13 16:00:00', freq='H'))\n",
      "('R533', 'R055', 'FLUSHING-MAIN') (17196, Timestamp('2017-06-13 20:00:00', freq='H'))\n",
      "('H009', 'R235', 'BEDFORD AV') (19388, Timestamp('2017-06-13 20:00:00', freq='H'))\n",
      "('N500', 'R020', '47-50 STS ROCK') (22084, Timestamp('2017-06-13 08:00:00', freq='H'))\n",
      "('PTH03', 'R552', 'JOURNAL SQUARE') (12929, Timestamp('2017-06-13 18:00:00', freq='H'))\n",
      "('R138', 'R293', '34 ST-PENN STA') (20918, Timestamp('2017-06-13 18:00:00', freq='H'))\n",
      "('N324', 'R018', 'JKSN HT-ROOSVLT') (17319, Timestamp('2017-06-13 16:00:00', freq='H'))\n",
      "Day: 5\n",
      "('R238', 'R046', 'GRD CNTRL-42 ST') (28923, Timestamp('2017-06-14 12:00:00', freq='H'))\n",
      "('PTH22', 'R540', 'PATH NEW WTC') (31612, Timestamp('2017-06-14 09:00:00', freq='H'))\n",
      "('R240', 'R047', 'GRD CNTRL-42 ST') (22638, Timestamp('2017-06-14 07:00:00', freq='H'))\n",
      "('R249', 'R179', '86 ST') (22247, Timestamp('2017-06-14 16:00:00', freq='H'))\n",
      "('H009', 'R235', 'BEDFORD AV') (20268, Timestamp('2017-06-14 20:00:00', freq='H'))\n",
      "('R533', 'R055', 'FLUSHING-MAIN') (18030, Timestamp('2017-06-14 20:00:00', freq='H'))\n",
      "('N500', 'R020', '47-50 STS ROCK') (22632, Timestamp('2017-06-14 08:00:00', freq='H'))\n",
      "('A025', 'R023', '34 ST-HERALD SQ') (16001, Timestamp('2017-06-14 12:00:00', freq='H'))\n",
      "('R138', 'R293', '34 ST-PENN STA') (20952, Timestamp('2017-06-14 18:00:00', freq='H'))\n",
      "('N506', 'R022', '34 ST-HERALD SQ') (15689, Timestamp('2017-06-14 16:00:00', freq='H'))\n",
      "Day: 6\n",
      "('R238', 'R046', 'GRD CNTRL-42 ST') (29046, Timestamp('2017-06-15 12:00:00', freq='H'))\n",
      "('PTH22', 'R540', 'PATH NEW WTC') (30805, Timestamp('2017-06-15 08:00:00', freq='H'))\n",
      "('R240', 'R047', 'GRD CNTRL-42 ST') (24584, Timestamp('2017-06-15 09:00:00', freq='H'))\n",
      "('R249', 'R179', '86 ST') (20502, Timestamp('2017-06-15 16:00:00', freq='H'))\n",
      "('H009', 'R235', 'BEDFORD AV') (20914, Timestamp('2017-06-15 20:00:00', freq='H'))\n",
      "('R533', 'R055', 'FLUSHING-MAIN') (18189, Timestamp('2017-06-15 20:00:00', freq='H'))\n",
      "('N506', 'R022', '34 ST-HERALD SQ') (17230, Timestamp('2017-06-15 16:00:00', freq='H'))\n",
      "('A025', 'R023', '34 ST-HERALD SQ') (16009, Timestamp('2017-06-15 12:00:00', freq='H'))\n",
      "('R138', 'R293', '34 ST-PENN STA') (20848, Timestamp('2017-06-15 18:00:00', freq='H'))\n",
      "('N500', 'R020', '47-50 STS ROCK') (21273, Timestamp('2017-06-15 08:00:00', freq='H'))\n",
      "Day: 7\n",
      "('R238', 'R046', 'GRD CNTRL-42 ST') (28645, Timestamp('2017-06-16 12:00:00', freq='H'))\n",
      "('PTH22', 'R540', 'PATH NEW WTC') (25692, Timestamp('2017-06-16 09:00:00', freq='H'))\n",
      "('R240', 'R047', 'GRD CNTRL-42 ST') (23772, Timestamp('2017-06-16 09:00:00', freq='H'))\n",
      "('R249', 'R179', '86 ST') (19028, Timestamp('2017-06-16 16:00:00', freq='H'))\n",
      "('H009', 'R235', 'BEDFORD AV') (19143, Timestamp('2017-06-16 16:00:00', freq='H'))\n",
      "('R533', 'R055', 'FLUSHING-MAIN') (17638, Timestamp('2017-06-16 16:00:00', freq='H'))\n",
      "('N506', 'R022', '34 ST-HERALD SQ') (18017, Timestamp('2017-06-16 16:00:00', freq='H'))\n",
      "('A025', 'R023', '34 ST-HERALD SQ') (16100, Timestamp('2017-06-16 12:00:00', freq='H'))\n",
      "('R138', 'R293', '34 ST-PENN STA') (20240, Timestamp('2017-06-16 18:00:00', freq='H'))\n",
      "('N083', 'R138', 'W 4 ST-WASH SQ') (14672, Timestamp('2017-06-16 17:00:00', freq='H'))\n"
     ]
    }
   ],
   "source": [
    "days = pd.date_range('2017-06-10', periods = 7)\n",
    "for i,x in enumerate(each_day):\n",
    "    print(\"Day: %d\"%(i+1))\n",
    "    for station,people in x[:10]:\n",
    "        print(station, busiest[station][days[i]])"
   ]
  },
  {
   "cell_type": "code",
   "execution_count": 0,
   "metadata": {
    "collapsed": false
   },
   "outputs": [
   ],
   "source": [
    "\n"
   ]
  },
  {
   "cell_type": "code",
   "execution_count": 0,
   "metadata": {
    "collapsed": false
   },
   "outputs": [
   ],
   "source": [
   ]
  }
 ],
 "metadata": {
  "kernelspec": {
   "display_name": "Python 3 (Ubuntu Linux)",
   "language": "python",
   "metadata": {
    "cocalc": {
     "description": "Python 3 programming language",
     "priority": 100,
     "url": "https://www.python.org/"
    }
   },
   "name": "python3"
  },
  "language_info": {
   "codemirror_mode": {
    "name": "ipython",
    "version": 3
   },
   "file_extension": ".py",
   "mimetype": "text/x-python",
   "name": "python",
   "nbconvert_exporter": "python",
   "pygments_lexer": "ipython3",
   "version": "3.6.7"
  }
 },
 "nbformat": 4,
 "nbformat_minor": 0
}